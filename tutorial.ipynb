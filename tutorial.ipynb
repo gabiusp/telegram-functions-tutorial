{
 "cells": [
  {
   "cell_type": "markdown",
   "metadata": {},
   "source": [
    "# _**A Little Tutorial on Some Useful Functions from the Telegram API**_\n",
    "##### **by Gabriela Satie**"
   ]
  },
  {
   "cell_type": "markdown",
   "metadata": {},
   "source": [
    "<br/>"
   ]
  },
  {
   "cell_type": "markdown",
   "metadata": {},
   "source": [
    "## &nbsp;&nbsp;**0. My Motivations**"
   ]
  },
  {
   "cell_type": "markdown",
   "metadata": {},
   "source": [
    "&nbsp;&nbsp;&nbsp;&nbsp;When I started programming by the end of 2019, I knew my main goal was to help people with my work. Even though it was always in the back of my mind when I got into university, I hadn't thought of a project that could have the impact I strived for, or even something that I was capable of doing with my limited skills. That is, until October 2020."
   ]
  },
  {
   "cell_type": "markdown",
   "metadata": {},
   "source": [
    "&nbsp;&nbsp;&nbsp;&nbsp;Until that month, I had been feeling as if I were completely lost. I had forgotten what my true motivations were, and I couldn't put into words the desolate feeling of not being able to help in any way, even more so because of the chaotic state the whole world was (and currently _is_) in. But I kept trying to learn new things and not lose hope that someday I'd be good enough to do something to help."
   ]
  },
  {
   "cell_type": "markdown",
   "metadata": {},
   "source": [
    "&nbsp;&nbsp;&nbsp;&nbsp;The perfect opportunity arose when I learned about an online hackathon for women called **SheHacksBr**. It was organized by *USPCodeLab*, an extension group from my university (*University of São Paulo*), and I caught wind of it through the president of one of their headquarters (*USPCodelab Sanca*), Carolina Arenas. Their theme was: \"Inovative ways of improving people's quality of life\". I instantly got excited and talked to my female friends from university, setting up a team of four: Me (of course), Milena Corrêa, Ana Vitória Freitas and Luísa Balleroni."
   ]
  },
  {
   "cell_type": "markdown",
   "metadata": {},
   "source": [
    "&nbsp;&nbsp;&nbsp;&nbsp;We brainstormed some ideas and came up with a, pardon my lack of modesty, really really cool project! It's an open source Telegram bot that mimics a restaurant, using hidden menus and commands to help women in danger and abusive situations in general. The goal is to look as real as possible as to not alarm the abusers that might be nearby or even watching the conversation take place. I'll link our GitHub accounts and the project's code below, where you can find a more detailed explanation of our work (I'll try to translate it as soon as possible!)."
   ]
  },
  {
   "cell_type": "markdown",
   "metadata": {},
   "source": [
    "- [**Gabriela (me)**](https://github.com/gabiusp)\n",
    "- [**Milena**](https://github.com/milenacsilva)\n",
    "- [**Ana**](https://github.com/anavitoriafreitasusp)\n",
    "- [**Luísa**](https://github.com/luisashimabucoro)\n",
    "\n",
    "&nbsp;&nbsp;&nbsp;&nbsp;[**Project Repository**](https://github.com/milenacsilva/shehacks-2020)"
   ]
  },
  {
   "cell_type": "markdown",
   "metadata": {},
   "source": [
    " &nbsp;&nbsp;&nbsp;&nbsp;Going into that competition, I knew I'd have to read a ton of documentation, which is something I actually really enjoy, *but* only when the documentation is well-explained. Don't get me wrong, I'm not saying the Telegram API is badly documented, but it's not that great either. It's confusing and often really hard to understand what exactly everything does, specially if you're dealing with more \"robust\" functions. In an effort to bridge that gap even a little bit, I decided to try to explain some cool things you can do to make your bot look more refined and user-friendly :)"
   ]
  },
  {
   "cell_type": "markdown",
   "metadata": {},
   "source": [
    "&nbsp;&nbsp;&nbsp;&nbsp;Also, one of my main inspirations for writing this tutorial comes from **Gabriel Kanegae**'s own guide:"
   ]
  },
  {
   "cell_type": "markdown",
   "metadata": {},
   "source": [
    "&nbsp;&nbsp;&nbsp;&nbsp;[**\"Creating a Telegram Bot with Python\"**](https://www.gabekanegae.com/creating-a-telegram-bot-with-python/) "
   ]
  },
  {
   "cell_type": "markdown",
   "metadata": {},
   "source": [
    "&nbsp;&nbsp;&nbsp;&nbsp;He's one of my seniors and a big inspiration for me as a professional, as well as a person! I highly recommend reading and following his guide, as I will be explaining some functions assuming you already have a simple bot running on Telegram. Without further ado, let's get into it!"
   ]
  },
  {
   "cell_type": "markdown",
   "metadata": {},
   "source": [
    "<br/>"
   ]
  },
  {
   "cell_type": "markdown",
   "metadata": {},
   "source": [
    "## &nbsp;&nbsp;**1. Importing the Functions**"
   ]
  },
  {
   "cell_type": "markdown",
   "metadata": {},
   "source": [
    "&nbsp;&nbsp;&nbsp;&nbsp;Starting with the basics, you want to make sure you import the functions we'll be using from now on. The beginning of your main file should look like this:"
   ]
  },
  {
   "cell_type": "code",
   "execution_count": null,
   "metadata": {},
   "outputs": [],
   "source": [
    "from telegram import InlineKeyboardButton, InlineKeyboardMarkup\n",
    "from telegram.ext import Updater, CommandHandler, ConversationHandler, CallbackQueryHandler, MessageHandler, Filters\n",
    "import logging\n",
    "import os"
   ]
  },
  {
   "cell_type": "markdown",
   "metadata": {},
   "source": [
    "&nbsp;&nbsp;&nbsp;&nbsp;But what does all of that mean?\n",
    "- _**InlineKeyboardButton**_: defines a button (you can create more than one within the 'keyboard')\n",
    "- _**InlineKeyboardMarkup**_: puts all of the buttons you chose to define in a 'markup' so you can send them attached to a message\n",
    "- _**Handlers**_:\n",
    "    - used to define the behavior of the bot's commands (*CommandHandler*)\n",
    "    - a chain of commands (*ConversationHandler*)\n",
    "    - the queries sent back by the buttons (*CallbackQueryHandler*)\n",
    "    - the messages sent by the user (*MessageHandler*)\n",
    "- _**Filters**_: used by the *MessageHandler* to specify which type of message or media we're dealing with (such as photos or audios)\n",
    "- _**logging**_: it basically sends you information about the program running, in this case your bot\n",
    "- _**os**_: we'll use this later on to delete a file from our computer or server"
   ]
  },
  {
   "cell_type": "markdown",
   "metadata": {},
   "source": [
    "&nbsp;&nbsp;&nbsp;&nbsp;Don't worry if you don't understand everything right away, it'll get much clearer when we (finally) start coding!"
   ]
  },
  {
   "cell_type": "markdown",
   "metadata": {},
   "source": [
    "<br/>"
   ]
  },
  {
   "cell_type": "markdown",
   "metadata": {},
   "source": [
    "## &nbsp;&nbsp;**2. Adding Buttons**"
   ]
  },
  {
   "cell_type": "markdown",
   "metadata": {},
   "source": [
    "&nbsp;&nbsp;&nbsp;&nbsp;First, let's create a simple 'start' function:"
   ]
  },
  {
   "cell_type": "code",
   "execution_count": null,
   "metadata": {},
   "outputs": [],
   "source": [
    "def start(update, context):\n",
    "    message = \"Hey, @{}!\".format(update.effective_user.username)\n",
    "    # 'update.effective_user.username' returns the user's @\n",
    "    context.bot.send_message(chat_id=update.effective_chat.id, text=message)\n",
    "    \n",
    "    return"
   ]
  },
  {
   "cell_type": "markdown",
   "metadata": {},
   "source": [
    "&nbsp;&nbsp;&nbsp;&nbsp;To run this command, simply add the following line to your main function:"
   ]
  },
  {
   "cell_type": "code",
   "execution_count": null,
   "metadata": {},
   "outputs": [],
   "source": [
    "# dp = updater.dispatcher\n",
    "dp.add_handler(CommandHandler(\"start\", start))"
   ]
  },
  {
   "cell_type": "markdown",
   "metadata": {},
   "source": [
    "&nbsp;&nbsp;&nbsp;&nbsp;That looks nice, but it's not exactly very interactive. What about a function that asks the user a question? Well, let's have fun with buttons!"
   ]
  },
  {
   "cell_type": "code",
   "execution_count": null,
   "metadata": {},
   "outputs": [],
   "source": [
    "# You can choose whatever question you want!\n",
    "def question(update, context):\n",
    "    prompt = \"Tell me, human, what sound does a frog make?\"\n",
    "    \n",
    "    # Now, let's define our buttons (I chose to put four options)\n",
    "    keyboard = [\n",
    "        [InlineKeyboardButton(text=\"Meow\", callback_data='wrong'),\n",
    "         InlineKeyboardButton(text=\"Moo\", callback_data='wrong')],\n",
    "        [InlineKeyboardButton(text=\"Ribbit\", callback_data='right'),\n",
    "         InlineKeyboardButton(text=\"Oink\", callback_data='wrong')]\n",
    "    ]"
   ]
  },
  {
   "cell_type": "markdown",
   "metadata": {},
   "source": [
    "&nbsp;&nbsp;&nbsp;&nbsp;Notice that I split the four options into two groups of two. They will be displayed like this:"
   ]
  },
  {
   "cell_type": "markdown",
   "metadata": {},
   "source": [
    "&nbsp;&nbsp;&nbsp;&nbsp;![this image cannot be displayed](question.png \"Buttons\")"
   ]
  },
  {
   "cell_type": "markdown",
   "metadata": {},
   "source": [
    "&nbsp;&nbsp;&nbsp;&nbsp;To change this, simply put whichever buttons you want to be together within the same square brackets."
   ]
  },
  {
   "cell_type": "markdown",
   "metadata": {},
   "source": [
    "&nbsp;&nbsp;&nbsp;&nbsp;You might also be wondering what the 'callback_data' means. I'm going to explain how to use it in the next section, but it's basically the data you receive when the user clicks on a button. You can also set it to a number or multiple words using underscores. Examples:\n",
    "- callback_data='4'\n",
    "- callback_data='this_is_a_callback'\n",
    "\n",
    "&nbsp;&nbsp;&nbsp;&nbsp;Just use whatever's more convenient for your type of question or prompt!"
   ]
  },
  {
   "cell_type": "code",
   "execution_count": null,
   "metadata": {},
   "outputs": [],
   "source": [
    "# Ok, we have a keyboard (aka our buttons)! We just need to declare our markup and send our message\n",
    "    markup = InlineKeyboardMarkup(inline_keyboard=keyboard)\n",
    "    context.bot.send_message(chat_id=update.effective_chat.id, text=prompt, reply_markup=markup)\n",
    "    \n",
    "    return"
   ]
  },
  {
   "cell_type": "markdown",
   "metadata": {},
   "source": [
    "&nbsp;&nbsp;&nbsp;&nbsp;To run this command, simply add the following line to your main function:"
   ]
  },
  {
   "cell_type": "code",
   "execution_count": null,
   "metadata": {},
   "outputs": [],
   "source": [
    "dp.add_handler(CommandHandler(\"question\", question))"
   ]
  },
  {
   "cell_type": "markdown",
   "metadata": {},
   "source": [
    "&nbsp;&nbsp;&nbsp;&nbsp;_Voilà!_ As you can see, using and sending buttons is quite simple. The real fun part, however, is how we use 'callback_data' to process or send further information to the user."
   ]
  },
  {
   "cell_type": "markdown",
   "metadata": {},
   "source": [
    "<br/>"
   ]
  },
  {
   "cell_type": "markdown",
   "metadata": {},
   "source": [
    "## &nbsp;&nbsp;**3. Making Your Buttons Interactive**"
   ]
  },
  {
   "cell_type": "markdown",
   "metadata": {},
   "source": [
    "&nbsp;&nbsp;&nbsp;&nbsp;Let's finally make this command interactive, shall we?"
   ]
  },
  {
   "cell_type": "code",
   "execution_count": null,
   "metadata": {},
   "outputs": [],
   "source": [
    "# We need a new function that will process the 'callback_data'\n",
    "def query_handler(update, context):\n",
    "    \n",
    "    # Here, we'll have access to the user's answer\n",
    "    query = update.callback_query\n",
    "    query.answer()\n",
    "\n",
    "    # Change your comparisons depending on what you chose as 'callback_data'\n",
    "    if query.data == 'wrong':\n",
    "        wrong = \"Sorry, that's not the right answer. Try again.\"\n",
    "        context.bot.send_message(chat_id=update.effective_chat.id, text=wrong)\n",
    "    if query.data == 'right':\n",
    "        right = \"Congratulations! You have chosen the right answer.\"\n",
    "        context.bot.send_message(chat_id=update.effective_chat.id, text=right)\n",
    "    \n",
    "    return"
   ]
  },
  {
   "cell_type": "markdown",
   "metadata": {},
   "source": [
    "&nbsp;&nbsp;&nbsp;&nbsp;To run this function alongside your question command, simply add the following line to your main function:"
   ]
  },
  {
   "cell_type": "code",
   "execution_count": null,
   "metadata": {},
   "outputs": [],
   "source": [
    "dp.add_handler(CallbackQueryHandler(query_handler))"
   ]
  },
  {
   "cell_type": "markdown",
   "metadata": {},
   "source": [
    "&nbsp;&nbsp;&nbsp;&nbsp;If you click on the buttons from top to bottom, it should look like this:"
   ]
  },
  {
   "cell_type": "markdown",
   "metadata": {},
   "source": [
    "&nbsp;&nbsp;&nbsp;&nbsp;![this image cannot be displayed](answers.png \"Button answers\")"
   ]
  },
  {
   "cell_type": "markdown",
   "metadata": {},
   "source": [
    "&nbsp;&nbsp;&nbsp;&nbsp;If you want it to be a little cleaner after the user has answered, you can either delete the whole message sent by the bot (with the buttons), or just the buttons.\n",
    "- Deleting the whole message:"
   ]
  },
  {
   "cell_type": "code",
   "execution_count": null,
   "metadata": {},
   "outputs": [],
   "source": [
    "# First, we need to save the message ID so we can properly delete it\n",
    "# On your question function, replace this line:\n",
    "    context.bot.send_message(chat_id=update.effective_chat.id, text=prompt, reply_markup=markup)\n",
    "# With this one:\n",
    "    text = context.bot.send_message(chat_id=update.effective_chat.id, text=prompt, reply_markup=markup)\n",
    "# Then save its ID\n",
    "    context.bot_data['text_id'] = text.message_id\n",
    "# You can use context.bot_data['name'] to save bot-related data and access it outside of your function\n",
    "# There's also context.user_data['name'] to save user-related data"
   ]
  },
  {
   "cell_type": "code",
   "execution_count": null,
   "metadata": {},
   "outputs": [],
   "source": [
    "# After you've saved the id, add the following lines to all of your if statements on your 'query_handler':\n",
    "    text_id = context.bot_data['text_id']\n",
    "    context.bot.delete_message(chat_id=update.effective_chat.id, message_id=text_id)\n",
    "# It instantly deletes the question along with the buttons attached to it"
   ]
  },
  {
   "cell_type": "markdown",
   "metadata": {},
   "source": [
    "- Deleting only the buttons:"
   ]
  },
  {
   "cell_type": "code",
   "execution_count": null,
   "metadata": {},
   "outputs": [],
   "source": [
    "# You just have to add this line to all of your if statements on your 'query_handler':\n",
    "    context.bot.edit_message_reply_markup(chat_id=query.message.chat_id, message_id=query.message.message_id)"
   ]
  },
  {
   "cell_type": "markdown",
   "metadata": {},
   "source": [
    "&nbsp;&nbsp;&nbsp;&nbsp;Deleting the whole message and deleting only the buttons, respectively, should look like this:"
   ]
  },
  {
   "cell_type": "markdown",
   "metadata": {},
   "source": [
    "&nbsp;&nbsp;&nbsp;&nbsp;![this image cannot be displayed](deleting.png \"Cleaning up the answers\")"
   ]
  },
  {
   "cell_type": "markdown",
   "metadata": {},
   "source": [
    "&nbsp;&nbsp;&nbsp;&nbsp;You can make small modifications, such as only deleting the message or the buttons when the user gets the answer right. To do this, just add the 'query_handler' modifications above to the if statement regarding the right 'callback_data'."
   ]
  },
  {
   "cell_type": "markdown",
   "metadata": {},
   "source": [
    "&nbsp;&nbsp;&nbsp;&nbsp;Congratulations! You just wrote your first interactive function with buttons! :) As you can see, the hardest part is just figuring out how everything works, but the actual code is quite straightforward. In the next section, we'll talk about something a bit more complicated, but also not at all impossible (and really fun!)."
   ]
  },
  {
   "cell_type": "markdown",
   "metadata": {},
   "source": [
    "<br/>"
   ]
  },
  {
   "cell_type": "markdown",
   "metadata": {},
   "source": [
    "## &nbsp;&nbsp;**4. Using the 'ConversationHandler'**"
   ]
  },
  {
   "cell_type": "markdown",
   "metadata": {},
   "source": [
    "&nbsp;&nbsp;&nbsp;&nbsp;Let's suppose we want to write a command that waits for the user's answer. To do that, we need to set up a chain of events that will happen before and after the user's message. But how?"
   ]
  },
  {
   "cell_type": "markdown",
   "metadata": {},
   "source": [
    "&nbsp;&nbsp;&nbsp;&nbsp;First, we need to define a variable to return so we can define the 'ConversationHandler' behavior:"
   ]
  },
  {
   "cell_type": "code",
   "execution_count": null,
   "metadata": {},
   "outputs": [],
   "source": [
    "# Right below your import statements, add the following line:\n",
    "MEDIA = range(1)\n",
    "# This variable will be returned by the functions you call before the last one. "
   ]
  },
  {
   "cell_type": "markdown",
   "metadata": {},
   "source": [
    "&nbsp;&nbsp;&nbsp;&nbsp;To make things more interesting, we're going to ask the user for an image. The first step is to build the main command."
   ]
  },
  {
   "cell_type": "code",
   "execution_count": null,
   "metadata": {},
   "outputs": [],
   "source": [
    "def photo(update, context):\n",
    "    prompt = \"Please, send me a photo!\"\n",
    "    context.bot.send_message(chat_id=update.effective_chat.id, text=prompt)\n",
    "    \n",
    "    return MEDIA"
   ]
  },
  {
   "cell_type": "markdown",
   "metadata": {},
   "source": [
    "&nbsp;&nbsp;&nbsp;&nbsp;This function then calls the next one, which will save important information we need to process the data."
   ]
  },
  {
   "cell_type": "code",
   "execution_count": null,
   "metadata": {},
   "outputs": [],
   "source": [
    "def save_info(update, context):\n",
    "    \n",
    "    # Getting the information of the image sent by the user\n",
    "    media = context.bot.get_file(update.message.photo[-1])\n",
    "    \n",
    "    if media == None: return\n",
    "    \n",
    "    prompt = \"Do you want me to send you this photo as a document?\"\n",
    "    keyboard = [\n",
    "        [InlineKeyboardButton(text=\"Yes\", callback_data='yes')],\n",
    "        [InlineKeyboardButton(text=\"No\", callback_data='no')]\n",
    "    ]\n",
    "    markup = InlineKeyboardMarkup(inline_keyboard=keyboard)\n",
    "    \n",
    "    context.bot.send_message(chat_id=update.effective_chat.id, text=prompt, reply_markup=markup)\n",
    "    \n",
    "    # The media information (so we can save the image if the user presses \"Yes\")\n",
    "    context.user_data['media_id'] = media.file_id\n",
    "    \n",
    "    return MEDIA"
   ]
  },
  {
   "cell_type": "markdown",
   "metadata": {},
   "source": [
    "&nbsp;&nbsp;&nbsp;&nbsp;Now we just need to handle the 'callback_data'."
   ]
  },
  {
   "cell_type": "code",
   "execution_count": null,
   "metadata": {},
   "outputs": [],
   "source": [
    "def query_handler(update, context):\n",
    "    query = update.callback_query\n",
    "    query.answer()\n",
    "    \n",
    "    if query.data == 'no':\n",
    "        goodbye = \"Understandable, have a good day!\"\n",
    "        context.bot.send_message(chat_id=update.effective_chat.id, text=goodbye)\n",
    "    \n",
    "    if query.data == 'yes':\n",
    "\n",
    "        # What we're doing here is:\n",
    "        # - Downloading the image sent by the user\n",
    "        # - Sending it as a document\n",
    "        # - Deleting the image from our computer or server\n",
    "        # - Ending the 'ConversationHandler'\n",
    "        media_id = context.user_data['media_id']\n",
    "        photo = context.bot.get_file(media_id)\n",
    "        photo.download(f\"{media_id}.jpg\")\n",
    "        \n",
    "        context.bot.send_document(chat_id=update.effective_chat.id, document=open(f\"{media_id}.jpg\", 'rb'))\n",
    "        os.remove(f\"{media_id}.jpg\")\n",
    "    \n",
    "    return ConversationHandler.END"
   ]
  },
  {
   "cell_type": "markdown",
   "metadata": {},
   "source": [
    "&nbsp;&nbsp;&nbsp;&nbsp;All of our functions are done! We just need to define the 'ConversationHandler'. On your main function, add the following code:"
   ]
  },
  {
   "cell_type": "code",
   "execution_count": null,
   "metadata": {},
   "outputs": [],
   "source": [
    "conv_handler = ConversationHandler(\n",
    "    entry_points=[CommandHandler(\"photo\", photo)], # User sends the /photo command\n",
    "    states={MEDIA: [MessageHandler(Filters.photo, save_info)]}, # User sends an image\n",
    "    fallbacks=[CallbackQueryHandler(query_handler)] # 'callback_data' is processed\n",
    ")\n",
    "dp.add_handler(conv_handler)"
   ]
  },
  {
   "cell_type": "markdown",
   "metadata": {},
   "source": [
    "&nbsp;&nbsp;&nbsp;&nbsp;In the end, your function should prompt the user for a photo and respond like this:"
   ]
  },
  {
   "cell_type": "markdown",
   "metadata": {},
   "source": [
    "&nbsp;&nbsp;&nbsp;&nbsp;![this image cannot be displayed](photo.png \"Sending the photo as a document\")"
   ]
  },
  {
   "cell_type": "markdown",
   "metadata": {},
   "source": [
    "&nbsp;&nbsp;&nbsp;&nbsp;You can manage different types of messages with your 'MessageHandler', such as text, audio, image, anything you want! The functions we built are quite simple, but it's just a sneak peek of the many amazing things you can do with the Telegram API."
   ]
  },
  {
   "cell_type": "markdown",
   "metadata": {},
   "source": [
    "&nbsp;&nbsp;&nbsp;&nbsp;My boyfriend has a project that processes images and removes their backgrounds using a Deep Learning model. Since it's a Telegram bot, I decided to put all of my knowledge of buttons and handlers into practice, so I'll link the GitHub repository here if you want to see what I did. It's mainly the code written above to get an image from the user, but it's worth checking out the cool Deep Learning aspect of it! :)"
   ]
  },
  {
   "cell_type": "markdown",
   "metadata": {},
   "source": [
    "&nbsp;&nbsp;&nbsp;&nbsp;[\"**Background Removal Bot**\"](https://github.com/LFRusso/BackgroundRemovalBot)"
   ]
  },
  {
   "cell_type": "markdown",
   "metadata": {},
   "source": [
    "&nbsp;&nbsp;&nbsp;&nbsp;Well, we've finally come to an end! Thank you so much for reading my first little tutorial, I hope from the bottom of my heart that it has helped you even a small bit :) Feel free to give me feedback or suggestions, and have fun with your bot!"
   ]
  },
  {
   "cell_type": "markdown",
   "metadata": {},
   "source": [
    "<br/>"
   ]
  },
  {
   "cell_type": "markdown",
   "metadata": {},
   "source": [
    "&nbsp;&nbsp;&nbsp;&nbsp;![this image cannot be displayed](sapito.jpg \"Strawberry frog says bye!\")"
   ]
  }
 ],
 "metadata": {
  "kernelspec": {
   "display_name": "Python 3",
   "language": "python",
   "name": "python3"
  },
  "language_info": {
   "codemirror_mode": {
    "name": "ipython",
    "version": 3
   },
   "file_extension": ".py",
   "mimetype": "text/x-python",
   "name": "python",
   "nbconvert_exporter": "python",
   "pygments_lexer": "ipython3",
   "version": "3.6.9"
  }
 },
 "nbformat": 4,
 "nbformat_minor": 4
}
